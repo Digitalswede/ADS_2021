{
 "cells": [
  {
   "cell_type": "code",
   "execution_count": 1,
   "id": "2e745a0d",
   "metadata": {},
   "outputs": [],
   "source": [
    "import pandas as pd\n",
    "import numpy as np\n",
    "import json\n",
    "import datetime\n",
    "from pandas.io.json import json_normalize\n",
    "import scipy as sp\n",
    "import scipy.fftpack\n",
    "import matplotlib.pyplot as plt\n",
    "import librosa\n",
    "import librosa.display\n",
    "from scipy.io import wavfile\n",
    "from scipy.fft import fft, ifft, fftfreq\n",
    "from scipy import signal\n",
    "import os"
   ]
  },
  {
   "cell_type": "code",
   "execution_count": 2,
   "id": "70f2ce4a",
   "metadata": {},
   "outputs": [
    {
     "name": "stdout",
     "output_type": "stream",
     "text": [
      "[0.02331543 0.03274536 0.02090454 ... 0.00289917 0.02050781 0.02075195]\n",
      "9600000\n",
      "16000\n"
     ]
    }
   ],
   "source": [
    "sr_data, data = wavfile.read('S04_U01.CH1_demo.wav')\n",
    "x , sr = librosa.load('S04_U01.CH1_demo.wav', sr = sr_data)\n",
    "print(x)\n",
    "print(len(x))\n",
    "print(sr)"
   ]
  },
  {
   "cell_type": "code",
   "execution_count": 7,
   "id": "02184ef9",
   "metadata": {},
   "outputs": [],
   "source": [
    "def json_to_df():\n",
    "    #load json file\n",
    "    with open('S04.json','r') as f:\n",
    "        data = json.loads(f.read()) \n",
    "    df = pd.json_normalize(data)\n",
    "\n",
    "    #format timestamps as datetime objects\n",
    "    df['start_time.U01'] = pd.to_datetime(df['start_time.U01']) \n",
    "    df['end_time.U01'] = pd.to_datetime(df['end_time.U01']) \n",
    "\n",
    "    #filter to specific 10 minute part\n",
    "    part_start_time_U01 = pd.to_datetime('01:29:59')\n",
    "    part_end_time_U01 = pd.to_datetime('01:39:57')\n",
    "    df_new = df.loc[(df['start_time.U01'] > part_start_time_U01) & (df['start_time.U01'] < part_end_time_U01)]\n",
    "\n",
    "    # final dataframe\n",
    "    df_new = df_new.filter(['words','speaker', 'session_id','start_time.U01', 'end_time.U01'], axis=1)\n",
    "    return df_new\n",
    "    \n"
   ]
  },
  {
   "cell_type": "code",
   "execution_count": 8,
   "id": "58b0765f",
   "metadata": {},
   "outputs": [
    {
     "name": "stdout",
     "output_type": "stream",
     "text": [
      "                                                  words speaker session_id  \\\n",
      "3177  It's basically to the end of your passport alm...     P10        S04   \n",
      "3178                      Short of like, a half a year.     P10        S04   \n",
      "3179             Maybe like five or six years from now?     P11        S04   \n",
      "3180                          Then yeah, it's worth it.     P10        S04   \n",
      "3181  Like, if your passports expire the next two ye...     P10        S04   \n",
      "\n",
      "              start_time.U01            end_time.U01  \n",
      "3177 2021-09-29 01:29:59.910 2021-09-29 01:30:01.840  \n",
      "3178 2021-09-29 01:30:02.240 2021-09-29 01:30:03.740  \n",
      "3179 2021-09-29 01:30:04.680 2021-09-29 01:30:06.000  \n",
      "3180 2021-09-29 01:30:05.940 2021-09-29 01:30:07.060  \n",
      "3181 2021-09-29 01:30:07.060 2021-09-29 01:30:09.610  \n"
     ]
    }
   ],
   "source": [
    "df = json_to_df()\n",
    "print(df.head())"
   ]
  },
  {
   "cell_type": "code",
   "execution_count": 13,
   "id": "c03d1855",
   "metadata": {},
   "outputs": [
    {
     "name": "stdout",
     "output_type": "stream",
     "text": [
      "8000.0\n",
      "[ 0.02331543  0.03274536  0.02090454 ...  0.05657959 -0.07241821\n",
      " -0.04711914]\n",
      "8000\n",
      "2021-09-29 01:29:59.500000\n",
      "3177   2021-09-29 01:29:59.910\n",
      "3178   2021-09-29 01:30:02.240\n",
      "3179   2021-09-29 01:30:04.680\n",
      "3180   2021-09-29 01:30:05.940\n",
      "3181   2021-09-29 01:30:07.060\n",
      "                 ...          \n",
      "3586   2021-09-29 01:39:52.470\n",
      "3587   2021-09-29 01:39:54.100\n",
      "3588   2021-09-29 01:39:54.260\n",
      "3589   2021-09-29 01:39:55.760\n",
      "3590   2021-09-29 01:39:56.830\n",
      "Name: start_time.U01, Length: 414, dtype: datetime64[ns]\n"
     ]
    },
    {
     "data": {
      "text/plain": [
       "pandas.core.series.Series"
      ]
     },
     "execution_count": 13,
     "metadata": {},
     "output_type": "execute_result"
    }
   ],
   "source": [
    "part_start_time_U01 = pd.to_datetime('01:29:59')\n",
    "half_sec = sr/2\n",
    "print(half_sec)\n",
    "test = x[:int(half_sec)]\n",
    "temp = part_start_time_U01 + datetime.timedelta(seconds=0.5)\n",
    "temp_2 = pd.to_datetime('01:29:59.910')\n",
    "print(test)\n",
    "print(len(test))\n",
    "print(temp)\n",
    "print(df['start_time.U01'])\n",
    "type(df)\n",
    "type(df['start_time.U01'])\n"
   ]
  }
 ],
 "metadata": {
  "kernelspec": {
   "display_name": "Python 3 (ipykernel)",
   "language": "python",
   "name": "python3"
  },
  "language_info": {
   "codemirror_mode": {
    "name": "ipython",
    "version": 3
   },
   "file_extension": ".py",
   "mimetype": "text/x-python",
   "name": "python",
   "nbconvert_exporter": "python",
   "pygments_lexer": "ipython3",
   "version": "3.8.8"
  }
 },
 "nbformat": 4,
 "nbformat_minor": 5
}
