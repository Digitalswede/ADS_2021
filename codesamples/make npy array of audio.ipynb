{
 "cells": [
  {
   "cell_type": "code",
   "execution_count": 1,
   "id": "202f8601",
   "metadata": {},
   "outputs": [],
   "source": [
    "import pandas as pd\n",
    "import numpy as np\n",
    "import scipy\n",
    "import soundfile as sf\n",
    "\n",
    "from scipy.io import wavfile\n",
    "import librosa\n",
    "import librosa.display\n",
    "import os"
   ]
  },
  {
   "cell_type": "code",
   "execution_count": 2,
   "id": "494f579c",
   "metadata": {},
   "outputs": [],
   "source": [
    "def halfSecondSplit(samples, samplerate):\n",
    "    \"\"\"Takes a dataframe with 'Audio Data' and 'Samplerate' columns, splits it into 0.5 second fragments\"\"\"\n",
    "\n",
    "    #disregards less than half a second of audio files\n",
    "    halfSecondSamples = samplerate/2\n",
    "    samples = samples[:int((len(samples)-(len(samples) % halfSecondSamples)))]\n",
    "    array = np.reshape(samples, (int(samples.size/halfSecondSamples), int(halfSecondSamples)))\n",
    "    \n",
    "    return array"
   ]
  },
  {
   "cell_type": "code",
   "execution_count": 3,
   "id": "db77804a",
   "metadata": {},
   "outputs": [],
   "source": [
    "def loadAudio(path): \n",
    "    audiodata, sr = sf.read(path)\n",
    "    halfseconds = halfSecondSplit(audiodata,sr)\n",
    "    return halfseconds, sr"
   ]
  },
  {
   "cell_type": "code",
   "execution_count": 4,
   "id": "eeadd0bf",
   "metadata": {},
   "outputs": [],
   "source": [
    "def convertToSpectro(data, samplerate):\n",
    "    Spectro = librosa.feature.melspectrogram(data, sr=samplerate, window=scipy.signal.windows.hann, n_fft=int(samplerate/4), hop_length = int(samplerate/8))\n",
    "    return Spectro"
   ]
  },
  {
   "cell_type": "code",
   "execution_count": 5,
   "id": "3f5f6079",
   "metadata": {},
   "outputs": [],
   "source": [
    "def convertToMFCC(data, samplerate):\n",
    "    mfcc = librosa.feature.mfcc(y = data, sr = samplerate, n_mfcc=40)\n",
    "    return mfcc"
   ]
  },
  {
   "cell_type": "code",
   "execution_count": 6,
   "id": "eb69f4b2",
   "metadata": {},
   "outputs": [],
   "source": [
    "def wavsToData(audiofiledir):\n",
    "    audioFragments = []\n",
    "    for filename in os.listdir(audiofiledir):\n",
    "        if filename.endswith(\".wav\"):\n",
    "            HalfSecondSamples, sr = loadAudio(audiofiledir + filename)\n",
    "            for halfSecond in HalfSecondSamples:\n",
    "    #             audioFragments.append(flattenArray(convertToSpectro(halfSecond, sr)))\n",
    "                audioFragments.append(flattenArray(convertToMFCC(halfSecond, sr)))\n",
    "    return audioFragments"
   ]
  },
  {
   "cell_type": "code",
   "execution_count": 7,
   "id": "9bb25b5f",
   "metadata": {},
   "outputs": [],
   "source": [
    "def saveFragmentsToNP(data):\n",
    "    np.save('./Output/Output.npy', data)"
   ]
  },
  {
   "cell_type": "code",
   "execution_count": 8,
   "id": "be340d6c",
   "metadata": {},
   "outputs": [],
   "source": [
    "def flattenArray(data):\n",
    "    data = np.array(data)\n",
    "    flatData = data.flatten()\n",
    "    return flatData"
   ]
  },
  {
   "cell_type": "code",
   "execution_count": 12,
   "id": "0163eb0f",
   "metadata": {},
   "outputs": [],
   "source": [
    "def main():\n",
    "    data = wavsToData(\"./Dataset/\") # End path with /\n",
    "    saveFragmentsToNP(data)\n",
    "main()"
   ]
  },
  {
   "cell_type": "code",
   "execution_count": 13,
   "id": "1858645a",
   "metadata": {},
   "outputs": [
    {
     "name": "stdout",
     "output_type": "stream",
     "text": [
      "(2300, 1760)\n"
     ]
    }
   ],
   "source": [
    "print(np.load('./Output/Output.npy').shape)"
   ]
  },
  {
   "cell_type": "code",
   "execution_count": null,
   "id": "6baaf48b",
   "metadata": {},
   "outputs": [],
   "source": []
  }
 ],
 "metadata": {
  "kernelspec": {
   "display_name": "Python 3 (ipykernel)",
   "language": "python",
   "name": "python3"
  },
  "language_info": {
   "codemirror_mode": {
    "name": "ipython",
    "version": 3
   },
   "file_extension": ".py",
   "mimetype": "text/x-python",
   "name": "python",
   "nbconvert_exporter": "python",
   "pygments_lexer": "ipython3",
   "version": "3.9.7"
  }
 },
 "nbformat": 4,
 "nbformat_minor": 5
}
